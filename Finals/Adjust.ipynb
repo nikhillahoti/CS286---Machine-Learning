{
 "cells": [
  {
   "cell_type": "code",
   "execution_count": 1,
   "metadata": {
    "collapsed": true
   },
   "outputs": [],
   "source": [
    "import nltk\n",
    "\n",
    "\n",
    "tags = ['NN', 'DT', 'JJ', 'PR', 'RB', 'VB', 'IN', 'OT']\n",
    "dictTags = {}"
   ]
  },
  {
   "cell_type": "code",
   "execution_count": 2,
   "metadata": {
    "collapsed": false
   },
   "outputs": [
    {
     "name": "stdout",
     "output_type": "stream",
     "text": [
      "{'NN': set(), 'DT': set(), 'JJ': set(), 'PR': set(), 'RB': set(), 'VB': set(), 'IN': set(), 'OT': set()}\n"
     ]
    }
   ],
   "source": [
    "# Creating a dictionary\n",
    "# add code for brown corpus and the zodiac corpus\n",
    "tags = ['NN', 'DT', 'JJ', 'PR', 'RB', 'VB', 'IN', 'OT']\n",
    "dictTags = {}\n",
    "for i in range(len(tags)):\n",
    "    dictTags[tags[i]] = set([])\n",
    "    \n",
    "print(dictTags)"
   ]
  },
  {
   "cell_type": "code",
   "execution_count": 3,
   "metadata": {
    "collapsed": true
   },
   "outputs": [],
   "source": [
    "def findOccurrences(s, ch):\n",
    "    lstOccur = [0]\n",
    "    for i, letter in enumerate(s):\n",
    "        if letter == ch:\n",
    "            lstOccur.append(i - len(lstOccur) + 1)\n",
    "    return lstOccur"
   ]
  },
  {
   "cell_type": "code",
   "execution_count": 17,
   "metadata": {
    "collapsed": true
   },
   "outputs": [],
   "source": [
    "from string import digits\n",
    "import string\n",
    "def getTags(sentence):\n",
    "    translator = str.maketrans('', '', string.punctuation)\n",
    "    sentence = sentence.translate(translator).lower()\n",
    "    \n",
    "    remove_digits = str.maketrans('', '', digits)\n",
    "    sentence = sentence.translate(remove_digits)\n",
    "    l = nltk.pos_tag(nltk.word_tokenize(sentence))\n",
    "    tags_List = []\n",
    "    for word, tag in l:\n",
    "        if word in [',', '(', ')']: continue  # skip non words\n",
    "        if 'NN' in tag:\n",
    "            # Combining Nouns NNP/NNS/NNPS/NN\n",
    "            tags_List.append('NN')\n",
    "        elif 'DT' in tag:\n",
    "            # Combining Determiner DT/PDT/WDT\n",
    "            tags_List.append('DT')\n",
    "        elif 'JJ' in tag:\n",
    "            # Combining Adjectives JJR/JJS\n",
    "            tags_List.append('JJ')\n",
    "        elif 'PR' in tag or 'WP' in tag:\n",
    "            # Combining Pronouns PRP/PR$/WP/WP$\n",
    "            tags_List.append('PR')\n",
    "        elif 'RB' in tag:\n",
    "            # Combining Adverbs RB/RBR/RBS/WRB\n",
    "            tags_List.append('RB')\n",
    "        elif 'VB' in tag:\n",
    "            # Combining Verbs VBG/VBD/VBN/VBP/VBZ\n",
    "            tags_List.append('VB')\n",
    "        elif 'IN' in tag or 'TO' in tag:\n",
    "            # Combining Preposition or TO\n",
    "            tags_List.append('IN')\n",
    "        else:\n",
    "            # All other tags\n",
    "            tags_List.append('OT')\n",
    "    return tags_List, sentence"
   ]
  },
  {
   "cell_type": "code",
   "execution_count": 18,
   "metadata": {
    "collapsed": true
   },
   "outputs": [],
   "source": [
    "constraints = [\n",
    "   None, None, None, None, None, None, None, None, None, None,\n",
    "   None, None, None, None, None, None, None, None, (4,), None,\n",
    "   None, None, None, None, None, None, None, None, None, None,\n",
    "   None, None, None, None, (20,), None, None, None, None, (19,),\n",
    "   None, None, (14,), (26,), (21,), (33,), (12,), (22,), None, (0,),\n",
    "   None, None, (18,4), (52,18,4), None, (6,), (5,), None, (30,), (7,),\n",
    "   None, (53,52,18,4), (23,), (39,19), (63,39,19), (2,), (31,), (15,), None, None,\n",
    "   (38,), (64,63,39,19), (48,), None, None, (16,), (10,), None, None, (8,),\n",
    "   (71,64,63,39,19), None, None, (9,), None, (61,53,52,18,4), (57,), (65,2), (55,6), (78,),\n",
    "   (56,5), (62,23), None, (58,30), (75,16), None, (83,9), (89,78), (3,), (67,15),\n",
    "   (25,), (44,21), (47,22), (77,), (80,71,64,63,39,19), (66,31), None, (24,), None, (99,67,15),\n",
    "   (40,), (37,), None, (42,14), (59,7), (28,), (72,48), (46,12), (76,10), (101,44,21),\n",
    "   (113,42,14), (109,99,67,15), (50,), (32,), (74,), (102,47,22), (91,62,23), (104,80,71,64,63,39,19), (68,), (17,),\n",
    "   (27,), (116,72,48), (127,104,80,71,64,63,39,19), None, (117,46,12,), (69,),\n",
    "]\n",
    "\n",
    "\n",
    "wishConstraint = []\n",
    "for i in range(136):\n",
    "    wishConstraint.append([])    \n",
    "\n",
    "def numConstraintsMet(txt):\n",
    "    txt = txt.lower()\n",
    "    total = 0\n",
    "    meet = 0\n",
    "    changeArr = [False] * 136\n",
    "    for pos, ch in enumerate(txt):\n",
    "        if constraints[pos] == None: continue #no constraints at this position \n",
    "        total += 1\n",
    "\n",
    "        #since we allow reverse homophones, \n",
    "        #constraint is met if any(OR) of the position has the same character,\n",
    "        #other than all(AND) have to be met\n",
    "        anyOneMeet = False\n",
    "        for _posIdx in constraints[pos]:\n",
    "            if ch == txt[_posIdx]:\n",
    "                anyOneMeet = True\n",
    "                changeArr[_posIdx] = True\n",
    "                break\n",
    "                \n",
    "        if anyOneMeet: \n",
    "            meet += 1 \n",
    "        else:\n",
    "            for _posIdx in constraints[pos]:\n",
    "                wishConstraint[_posIdx].append(ch)\n",
    "    return meet, total, wishConstraint, changeArr\n",
    "    "
   ]
  },
  {
   "cell_type": "code",
   "execution_count": null,
   "metadata": {
    "collapsed": false
   },
   "outputs": [],
   "source": [
    "import heapq\n",
    "\n",
    "text1 = \"HERWHRITENAMESPOTTHINGAMAJIGNINECONTROLITIDIGYEARHITTHEIRUNTUTMIAREOILCIRCUTAREEATSNOTUPHERMINTONEWONTARILEABOTOKMTAREATDOOIRAMAITGRAVEL\"\n",
    "met, total, wishConstraint = numConstraintsMet(text1)\n",
    "\n",
    "wishMax = []\n",
    "for i in range(len(wishConstraint)):\n",
    "    lst = wishConstraint[i]\n",
    "    if lst == []: \n",
    "        wishMax.append('[a-z]')\n",
    "    else:\n",
    "        wishMax.append(max(lst,key=lst.count))\n",
    "wishMax\n",
    "\n",
    "for i in range(len(word_tags)):\n",
    "    \n",
    "\n",
    "heapq.nlargest(3, xrange(len(fr)), key=fr.__getitem__)\n",
    "\n",
    "    \n",
    "    \n"
   ]
  },
  {
   "cell_type": "code",
   "execution_count": 6,
   "metadata": {
    "collapsed": false,
    "scrolled": false
   },
   "outputs": [
    {
     "name": "stdout",
     "output_type": "stream",
     "text": [
      "Total Time 67.02437329292297\n"
     ]
    }
   ],
   "source": [
    "# Creating a dictionary\n",
    "# add code for brown corpus and the zodiac corpus\n",
    "\n",
    "import time\n",
    "\n",
    "start = time.time()\n",
    "tags = ['NN', 'DT', 'JJ', 'PR', 'RB', 'VB', 'IN', 'OT']\n",
    "dictTags = {}\n",
    "for i in range(len(tags)):\n",
    "    dictTags[tags[i]] = []\n",
    "\n",
    "# Reading from the brown corpus \n",
    "brownCorpus = nltk.corpus.brown.sents()\n",
    "for i in range(len(brownCorpus)):\n",
    "    #print(brownCorpus[i])\n",
    "    taggs, sentence = getTags(' '.join(brownCorpus[i]))\n",
    "    sentence = sentence.split()\n",
    "    \n",
    "    counter = len(taggs)\n",
    "    if len(sentence) < counter:\n",
    "        counter = len(sentence)\n",
    "    \n",
    "    for j in range(counter):\n",
    "        dictTags[taggs[j]].append(sentence[j])\n",
    "\n",
    "end = time.time()\n",
    "\n",
    "print(\"Total Time\", (end - start))\n",
    "\n",
    "for key in dictTags:\n",
    "    dictTags[key] = list(set(dictTags[key]))\n",
    "\n"
   ]
  },
  {
   "cell_type": "code",
   "execution_count": null,
   "metadata": {
    "collapsed": false
   },
   "outputs": [],
   "source": [
    "print(dictTags['NN'][:10])\n",
    "print(len(\"ALICE HAD GIVEN IT TO HER CHILD FOR HE HAD BROUGHT AS THE COURAGE HE GAVE HER HERE IN THE PRIZES BUT WHO THERE IN THE DOOR IT WAS HIGH ADDED THAT DOROTHY DID NOT HURT YOU OH\"))\n",
    "print(\"ALICE HAD GIVEN IT TO HER CHILD FOR HE HAD BROUGHT AS THE COURAGE HE GAVE HER HERE IN THE PRIZES BUT WHO THERE IN THE DOOR IT WAS HIGH ADDED THAT DOROTHY DID NOT HURT YOU OH\".replace(\" \", \"\"))\n",
    "print(len(\"ALICE HAD GIVEN IT TO HER CHILD FOR HE HAD BROUGHT AS THE COURAGE HE GAVE HER HERE IN THE PRIZES BUT WHO THERE IN THE DOOR IT WAS HIGH ADDED THAT DOROTHY DID NOT HURT YOU OH\".replace(\" \", \"\")))"
   ]
  },
  {
   "cell_type": "code",
   "execution_count": 24,
   "metadata": {
    "collapsed": false,
    "scrolled": true
   },
   "outputs": [
    {
     "name": "stdout",
     "output_type": "stream",
     "text": [
      "ALICE HAD GIVEN IT TO HER CHILD FOR HE HAD BROUGHT AS THE COURAGE HE GAVE HER HERE IN THE PRIZES BUT WHO THERE IN THE DOOR IT WAS HIGH ADDED THAT DOROTHY DID NOT HURT YOU OH\n",
      "[0, 5, 8, 13, 15, 17, 20, 25, 28, 30, 33, 40, 42, 45, 52, 54, 58, 61, 65, 67, 70, 76, 79, 82, 87, 89, 92, 96, 98, 101, 105, 110, 114, 121, 124, 127, 131, 134]\n",
      "(['NN', 'VB', 'VB', 'PR', 'IN', 'PR', 'NN', 'IN', 'PR', 'VB', 'VB', 'IN', 'DT', 'NN', 'PR', 'VB', 'PR', 'RB', 'IN', 'DT', 'NN', 'OT', 'PR', 'RB', 'IN', 'DT', 'NN', 'PR', 'VB', 'RB', 'VB', 'IN', 'NN', 'VB', 'RB', 'VB', 'PR', 'VB'], 'alice had given it to her child for he had brought as the courage he gave her here in the prizes but who there in the door it was high added that dorothy did not hurt you oh')\n",
      "This is before -->\n",
      "33\n",
      "['A', '[a-z]', 'I', 'g', 'E', 'H', 'A', 'D', 'a', 'I', 'u', '[a-z]', 'g', '[a-z]', 'T', 'T', 'O', 'e', 'E', 'R', 's', 'H', 'I', 'p', 'D', 'n', 'n', 't', 'w', '[a-z]', 'H', 'A', 'D', 'n', '[a-z]', '[a-z]', '[a-z]', 'e', 'u', 'n', 'h', '[a-z]', 'T', '[a-z]', 't', '[a-z]', 'O', 'n', 'R', '[a-z]', 'o', '[a-z]', 'H', 'y', '[a-z]', 'r', 't', 'E', 'i', 'a', '[a-z]', 'm', 'E', 'R', 'n', 'I', 'l', 'u', 'w', 'h', '[a-z]', 'n', 'l', '[a-z]', 'c', 'y', 'h', 'o', 'T', '[a-z]', 'H', '[a-z]', '[a-z]', 'n', '[a-z]', '[a-z]', '[a-z]', '[a-z]', '[a-z]', 'T', '[a-z]', 'p', '[a-z]', '[a-z]', '[a-z]', '[a-z]', '[a-z]', '[a-z]', '[a-z]', 't', '[a-z]', 'H', 'e', '[a-z]', 'H', '[a-z]', '[a-z]', '[a-z]', '[a-z]', 'D', '[a-z]', '[a-z]', '[a-z]', 'd', '[a-z]', '[a-z]', 'l', 'O', '[a-z]', '[a-z]', '[a-z]', '[a-z]', '[a-z]', '[a-z]', '[a-z]', '[a-z]', '[a-z]', 'o', '[a-z]', '[a-z]', '[a-z]', '[a-z]', '[a-z]', '[a-z]', '[a-z]', '[a-z]']\n",
      "------\n",
      "136\n",
      "new Value 33\n",
      "new Value 31\n",
      "new Value 32\n",
      "new Value 32\n",
      "new Value 32\n",
      "new Value 32\n",
      "new Value 32\n",
      "new Value 32\n",
      "new Value 32\n",
      "new Value 32\n",
      "new Value 32\n",
      "new Value 32\n",
      "new Value 32\n",
      "new Value 32\n",
      "new Value 32\n",
      "This is the final output ---> \n",
      "32\n",
      "ALICEHADGIVENyeTOHERCHILDFORweHADBROUGHThehotCOURAGEHEGAVEHERHEREINTHEPRIZESBUTforankleINTHEDOORITitdHIGHADDEDamidlayetteDIDNOTontoYOUOH\n",
      "136\n"
     ]
    }
   ],
   "source": [
    "import heapq\n",
    "import re\n",
    "fInput = open(\"dummy.txt\", \"r\")\n",
    "\n",
    "word_tags = []\n",
    "word_start_index = []\n",
    "for line in fInput:\n",
    "    line = \"ALICE HAD GIVEN IT TO HER CHILD FOR HE HAD BROUGHT AS THE COURAGE HE GAVE HER HERE IN THE PRIZES BUT WHO THERE IN THE DOOR IT WAS HIGH ADDED THAT DOROTHY DID NOT HURT YOU OH\"\n",
    "    #line = \"HER WHRITE NAME SPOT THINGAMAJIG NINE CONTROL IT I DIG YEAR HIT THE I RUN TUT MI ARE OIL CIRCUT ARE EATS NOT UP HER MINT ONE WONT A RILE ABOT OK MT ARE AT DOO I RAM A IT GRAVEL\"\n",
    "    #line = \"here it is you missed them because you can see the parked back the code in the code of sounds about to draw me i am complied with the road the code and the couple peeled\"\n",
    "    #line = \"un barel society tonight is i leaped will the i is wearing schedule them for at shall rather out your un by work the i only the in only blue the sea the to except with\"\n",
    "    #line = \"was people broad a then the them fashion because have right so the muttering tone spoke she his you the neck yes gryphon a troubles him in chair thick two drink scarecrow\"\n",
    "    print(line)\n",
    "\n",
    "    # Get position of the start of each word\n",
    "    word_start_index = findOccurrences(line, ' ')\n",
    "    print(word_start_index)\n",
    "\n",
    "    word_tags = getTags(line)\n",
    "    print(word_tags)\n",
    "    \n",
    "    line = line.replace(\" \", \"\")\n",
    "    line = line[:136]\n",
    "    \n",
    "    met, total, wishConstraint, changeArr = numConstraintsMet(line)\n",
    "    print(\"This is before -->\")\n",
    "    print(met)\n",
    "\n",
    "    wishMax = []\n",
    "    for i in range(len(wishConstraint)):\n",
    "        if changeArr[i]: \n",
    "            wishMax.append(line[i])\n",
    "            continue\n",
    "        lst = wishConstraint[i]\n",
    "        if lst == []: \n",
    "            wishMax.append('[a-z]')\n",
    "        else:\n",
    "            wishMax.append(max(lst,key=lst.count))\n",
    "    print(wishMax)\n",
    "    print(\"------\")\n",
    "\n",
    "    line = line.replace(\" \", \"\")\n",
    "    print(len(line))\n",
    "    word_tags = word_tags[0]\n",
    "    \n",
    "    oldValue = met - 1\n",
    "    newValue = met\n",
    "    \n",
    "    val = 0\n",
    "    \n",
    "    #while oldValue <  newValue: \n",
    "    while val <  15: \n",
    "        \n",
    "        val += 1\n",
    "        oldValue = newValue\n",
    "        for i in range(len(word_tags)):\n",
    "\n",
    "            # Get the required word regex\n",
    "            endIndex = i+1\n",
    "            lengthAvailable = 0\n",
    "            if i == len(word_tags) - 1:\n",
    "                endIndex = 136\n",
    "                lengthAvailable = 136 - word_start_index[i]\n",
    "            else:\n",
    "                endIndex = word_start_index[i+1]\n",
    "                lengthAvailable = word_start_index[i+1] - word_start_index[i]\n",
    "            neededWord = ''.join(wishMax[word_start_index[i]: endIndex])\n",
    "\n",
    "            if lengthAvailable == neededWord.count(\"[a-z]\"):\n",
    "                continue\n",
    "            \n",
    "            lstDt = dictTags[word_tags[i]]\n",
    "            for j in range(len(lstDt)):\n",
    "                if re.match(neededWord, lstDt[j]) != None:\n",
    "                    # Found a word\n",
    "                    if len(lstDt[j]) <= lengthAvailable: \n",
    "                        \"\"\"print(\"Hurray Man!!\")\n",
    "                        print(\"Needed --->\", neededWord)\n",
    "                        print(\"Real word --> \" + line[word_start_index[i]: endIndex])\n",
    "                        print(\"Replaced by \" + lstDt[j][:lengthAvailable])\n",
    "                        print(line[0:word_start_index[i]])\n",
    "                        print(line[endIndex:])\n",
    "                        print(word_start_index[i])\n",
    "                        print(endIndex)\n",
    "                        \"\"\"\n",
    "                        \n",
    "                        line = line[0:word_start_index[i]] + lstDt[j][:lengthAvailable] + line[endIndex:]\n",
    "                        #print(line)\n",
    "                        #print(len(line))\n",
    "                        break\n",
    "        newValue, total, wishConstraint, changeArr = numConstraintsMet(line)\n",
    "        wishMax = []\n",
    "        for i in range(len(wishConstraint)):\n",
    "            lst = wishConstraint[i]\n",
    "            if lst == []: \n",
    "                wishMax.append('[a-z]')\n",
    "            else:\n",
    "                wishMax.append(max(lst,key=lst.count))\n",
    "        #print(wishMax)\n",
    "        \n",
    "        print(\"new Value\", newValue)\n",
    "\n",
    "    \n",
    "    break  # Break of the line we are considering\n",
    "    \n",
    "met, total, wishConstrain, changeArr = numConstraintsMet(line.replace(\" \", \"\"))\n",
    "print(\"This is the final output ---> \")\n",
    "print(met)\n",
    "print(line)\n",
    "print(len(line))\n",
    "fInput.close()"
   ]
  },
  {
   "cell_type": "code",
   "execution_count": null,
   "metadata": {
    "collapsed": true
   },
   "outputs": [],
   "source": []
  },
  {
   "cell_type": "code",
   "execution_count": null,
   "metadata": {
    "collapsed": true
   },
   "outputs": [],
   "source": []
  }
 ],
 "metadata": {
  "kernelspec": {
   "display_name": "Python [conda root]",
   "language": "python",
   "name": "conda-root-py"
  },
  "language_info": {
   "codemirror_mode": {
    "name": "ipython",
    "version": 3
   },
   "file_extension": ".py",
   "mimetype": "text/x-python",
   "name": "python",
   "nbconvert_exporter": "python",
   "pygments_lexer": "ipython3",
   "version": "3.6.3"
  }
 },
 "nbformat": 4,
 "nbformat_minor": 2
}
